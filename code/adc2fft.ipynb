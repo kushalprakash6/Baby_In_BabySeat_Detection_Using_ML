{
 "cells": [
  {
   "cell_type": "code",
   "execution_count": 2,
   "metadata": {},
   "outputs": [],
   "source": [
    "import os\n",
    "import numpy as np\n",
    "import pandas as pd\n",
    "from scipy import fftpack\n",
    "\n",
    "present_dir = \"/Users/kushalprakash/Documents/Uni/23-24/AIS+ML/WithBaby\"\n",
    "absent_dir = \"/Users/kushalprakash/Documents/Uni/23-24/AIS+ML/WithoutBaby\" \n",
    "\n",
    "\n",
    "def process_data(file, directory, output_filename):\n",
    "  \"\"\"\n",
    "  Processes a single CSV file and saves the FFT magnitude to a new CSV.\n",
    "  \"\"\"\n",
    "  if not file.endswith('.csv'):\n",
    "    return\n",
    "\n",
    "  file_path = os.path.join(directory, file)\n",
    "  reader = pd.read_csv(file_path, header=None, index_col=False)\n",
    "\n",
    "  # Skip header so only adc data is considered\n",
    "  adc_data = reader.iloc[:, 16:]  \n",
    "\n",
    "  # Applying FFT to each column\n",
    "  fft_results = adc_data.apply(np.fft.fft, axis=0)\n",
    "\n",
    "  # Calculating the magnitude of the FFT results\n",
    "  fft_magnitude = fft_results.apply(np.abs)\n",
    "    \n",
    "  # Save the DataFrame to a new CSV file\n",
    "  fft_magnitude.to_csv(os.path.join(directory, output_filename), index=False)\n",
    "\n",
    "\n",
    "def main():\n",
    "  for filename in os.listdir(present_dir):\n",
    "    process_data(filename, present_dir, f\"fft_{filename}\")\n",
    "\n",
    "  for filename in os.listdir(absent_dir):\n",
    "    process_data(filename, absent_dir, f\"fft_{filename}\")\n",
    "\n",
    "\n",
    "if __name__ == \"__main__\":\n",
    "  main()"
   ]
  }
 ],
 "metadata": {
  "kernelspec": {
   "display_name": "Python 3",
   "language": "python",
   "name": "python3"
  },
  "language_info": {
   "codemirror_mode": {
    "name": "ipython",
    "version": 3
   },
   "file_extension": ".py",
   "mimetype": "text/x-python",
   "name": "python",
   "nbconvert_exporter": "python",
   "pygments_lexer": "ipython3",
   "version": "3.12.1"
  }
 },
 "nbformat": 4,
 "nbformat_minor": 2
}
