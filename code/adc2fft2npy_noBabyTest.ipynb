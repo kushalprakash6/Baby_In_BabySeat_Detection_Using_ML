{
 "cells": [
  {
   "cell_type": "code",
   "execution_count": null,
   "metadata": {},
   "outputs": [],
   "source": [
    "import os\n",
    "import numpy as np\n",
    "import pandas as pd\n",
    "from scipy import fftpack\n",
    "import matplotlib.pyplot as plt\n",
    "\n",
    "absent_dir = '/Users/kushalprakash/Documents/Uni/23-24/AIS+ML/WithoutBaby_train/'\n",
    "\n",
    "# Fetch all the files for baby absent data which will be used for training\n",
    "\n",
    "file_paths_absent = []\n",
    "\n",
    "all_files = os.listdir(absent_dir)    \n",
    "csv_files = list(filter(lambda f: f.endswith('.csv'), all_files))\n",
    "for i in csv_files:\n",
    "    file_path = absent_dir + i\n",
    "    file_paths_absent.append(file_path)\n",
    "file_paths_absent"
   ]
  },
  {
   "cell_type": "code",
   "execution_count": null,
   "metadata": {},
   "outputs": [],
   "source": [
    "# Initialize an empty list to store the DataFrames\n",
    "dfs = []\n",
    "\n",
    "# Loop through the file paths and append each DataFrame to the list\n",
    "for file in file_paths_absent:\n",
    "    df = pd.read_csv(file, header=None, index_col=False)\n",
    "    dfs.append(df)\n",
    "\n",
    "# Concatenate all the DataFrames in the list\n",
    "combined_df_absent = pd.concat(dfs, ignore_index=True)\n",
    "train_absent_len = len(combined_df_absent)\n",
    "print(train_absent_len)\n",
    "combined_df_absent"
   ]
  },
  {
   "cell_type": "code",
   "execution_count": null,
   "metadata": {},
   "outputs": [],
   "source": [
    "print(len(combined_df_absent))\n",
    "\n",
    "# Get the shape of the DataFrame\n",
    "shape = combined_df_absent.shape\n",
    "\n",
    "# Number of rows\n",
    "num_rows = shape[0]\n",
    "\n",
    "# Number of columns\n",
    "num_columns = shape[1]\n",
    "\n",
    "# Print the number of rows and columns\n",
    "print(\"Number of rows baby absent:\", num_rows)\n",
    "print(\"Number of columns baby absent:\", num_columns)"
   ]
  },
  {
   "cell_type": "code",
   "execution_count": null,
   "metadata": {},
   "outputs": [],
   "source": [
    "# Skip header data and consider only adc data for fft calculation\n",
    "adc_data_selected_absent = combined_df_absent.iloc[:, 16:].mean(axis=1)\n",
    "adc_data_selected_absent"
   ]
  },
  {
   "cell_type": "code",
   "execution_count": null,
   "metadata": {},
   "outputs": [],
   "source": [
    "# Assuming `adc_data` is your pandas Series with ADC data\n",
    "adc_array = adc_data_selected_absent.to_numpy()  # Convert the pandas Series to a numpy array\n",
    "\n",
    "# Choose a window function - Hanning window in this case\n",
    "window = np.hanning(len(adc_array))\n",
    "\n",
    "# Apply the window function to your data\n",
    "windowed_adc_data = adc_array * window\n",
    "\n",
    "# Perform FFT on the windowed data\n",
    "fft_result = np.fft.fft(windowed_adc_data)\n",
    "\n",
    "# Frequency bins (assuming you know the sampling rate)\n",
    "sampling_rate = 16034  # Example: 1000 Hz, replace with your actual sampling rate\n",
    "n = len(adc_array)\n",
    "freq = np.fft.fftfreq(n, d=1/sampling_rate)\n",
    "# Calculate the magnitude and phase of the FFT result\n",
    "magnitude = np.abs(fft_result)\n",
    "phase = np.angle(fft_result)\n",
    "\n",
    "# Create a DataFrame\n",
    "fft_df = pd.DataFrame({\n",
    "    'Frequency': freq,\n",
    "    'FFT Magnitude': magnitude,\n",
    "    'Phase': phase\n",
    "})\n",
    "\n",
    "\n",
    "fft_df"
   ]
  },
  {
   "cell_type": "code",
   "execution_count": null,
   "metadata": {},
   "outputs": [],
   "source": [
    "plt.figure(figsize=(10, 6))  # Set the figure size for better readability\n",
    "plt.plot(fft_df['Frequency'], fft_df['FFT Magnitude'])  # Plot positive frequency vs magnitude\n",
    "plt.title('Magnitude Spectrum (Positive Frequencies)')  # Title of the plot\n",
    "plt.xlabel('Frequency (Hz)')  # Label for the x-axis\n",
    "plt.ylabel('Magnitude')  # Label for the y-axis\n",
    "plt.grid(True)  # Show grid for better readability\n",
    "plt.show()  # Display the plot"
   ]
  },
  {
   "cell_type": "code",
   "execution_count": null,
   "metadata": {},
   "outputs": [],
   "source": [
    "numpy_array = fft_df.to_numpy()\n",
    "print(os.getcwd())\n",
    "# Save the array to a file\n",
    "np.save((absent_dir+'withoutbaby_test.npy'), numpy_array)"
   ]
  }
 ],
 "metadata": {
  "language_info": {
   "name": "python"
  }
 },
 "nbformat": 4,
 "nbformat_minor": 2
}
