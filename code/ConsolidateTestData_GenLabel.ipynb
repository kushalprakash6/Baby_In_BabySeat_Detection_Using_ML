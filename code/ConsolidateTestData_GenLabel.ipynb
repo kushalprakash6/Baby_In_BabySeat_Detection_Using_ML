{
 "cells": [
  {
   "cell_type": "markdown",
   "metadata": {},
   "source": [
    "# Merge data for testing"
   ]
  },
  {
   "cell_type": "code",
   "execution_count": 13,
   "metadata": {},
   "outputs": [],
   "source": [
    "import numpy as np"
   ]
  },
  {
   "cell_type": "code",
   "execution_count": 14,
   "metadata": {},
   "outputs": [
    {
     "name": "stdout",
     "output_type": "stream",
     "text": [
      "122997\n",
      "(40999, 3)\n",
      "40999\n",
      "60615\n",
      "(20205, 3)\n",
      "20205\n",
      "(61204, 3)\n",
      "[[ 0.00000000e+00  2.90456919e+06 -3.14159265e+00]\n",
      " [ 2.43908388e-02  1.41434112e+06  1.10751426e-01]\n",
      " [ 4.87816776e-02  2.08790877e+05 -1.43748806e+00]\n",
      " ...\n",
      " [-2.37564959e+00  2.85522536e+04  2.17655209e+00]\n",
      " [-1.58376639e+00  2.11311974e+05 -2.93380009e+00]\n",
      " [-7.91883197e-01  7.92780501e+05 -5.75361947e-02]]\n"
     ]
    }
   ],
   "source": [
    "# Load the data from the .npy file using np.load\n",
    "#NOTE: uncomment here and in the daata save and label creation for the exact item in processing\n",
    "\n",
    "data = np.load('/Users/kushalprakash/Documents/Uni/23-24/AIS+ML/WithBaby_test/withbaby_test.npy')\n",
    "#data = np.load('/Users/kushalprakash/Documents/Uni/23-24/AIS+ML/Final/data/numpy_data/withbaby_Scarfblanket_test.npy')\n",
    "#data = np.load('/Users/kushalprakash/Documents/Uni/23-24/AIS+ML/Final/data/numpy_data/withbaby_all_test.npy')\n",
    "\n",
    "# Print the size of the data (number of elements)\n",
    "print(data.size)\n",
    "\n",
    "# Or, print the shape of the data (dimensions) for multidimensional arrays\n",
    "print(data.shape)\n",
    "row,column = data.shape\n",
    "print(row)\n",
    "\n",
    "# Load the data from the .npy file using np.load\n",
    "data1 = np.load('/Users/kushalprakash/Documents/Uni/23-24/AIS+ML/WithoutBaby_test/withoutbaby_test.npy')\n",
    "\n",
    "# Print the size of the data (number of elements)\n",
    "print(data1.size)\n",
    "\n",
    "# Or, print the shape of the data (dimensions) for multidimensional arrays\n",
    "print(data1.shape)\n",
    "row1,column1 = data1.shape\n",
    "print(row1)\n",
    "\n",
    "# Concatenate the arrays along axis 0 (vertically)\n",
    "combined_data = np.concatenate((data, data1), axis=0)\n",
    "\n",
    "# Print the shape of the combined data\n",
    "print(combined_data.shape)\n",
    "\n",
    "print(combined_data)\n",
    "\n",
    "# data for baby present and absent normally \n",
    "np.save('/Users/kushalprakash/Documents/Uni/23-24/AIS+ML/CombinedData/' + 'test_1.npy', combined_data)\n",
    "\n",
    "#Data for baby present (with only suncreeen or scarf) and absent\n",
    "#np.save('/Users/kushalprakash/Documents/Uni/23-24/AIS+ML/CombinedData/' + 'test_2.npy', combined_data)\n",
    "\n",
    "#data for baby present, with suncreen, with scarf and absent all together for testing\n",
    "#np.save('/Users/kushalprakash/Documents/Uni/23-24/AIS+ML/CombinedData/' + 'test_all.npy', combined_data)"
   ]
  },
  {
   "cell_type": "markdown",
   "metadata": {},
   "source": [
    "# Create train label"
   ]
  },
  {
   "cell_type": "code",
   "execution_count": 15,
   "metadata": {},
   "outputs": [
    {
     "name": "stdout",
     "output_type": "stream",
     "text": [
      "40999\n",
      "20205\n",
      "[1. 1. 1. ... 0. 0. 0.]\n"
     ]
    }
   ],
   "source": [
    "# create a horizontal array with row and columns \n",
    "Label_person = np.ones((row))\n",
    "print(len(Label_person))\n",
    "Label_NoPerson = np.zeros((row1))\n",
    "print(len(Label_NoPerson))\n",
    "Label = np.concatenate((Label_person, Label_NoPerson), axis=0)\n",
    "\n",
    "# data and label for baby present and absent normally \n",
    "np.save('/Users/kushalprakash/Documents/Uni/23-24/AIS+ML/CombinedData/' + 'test_label_1.npy', Label)\n",
    "display=np.load('/Users/kushalprakash/Documents/Uni/23-24/AIS+ML/CombinedData/test_label_1.npy')\n",
    "\n",
    "#Data and label for baby present (with only suncreeen or scarf) and absent\n",
    "#np.save('/Users/kushalprakash/Documents/Uni/23-24/AIS+ML/CombinedData/' + 'test_label_2.npy', Label)\n",
    "#display=np.load('/Users/kushalprakash/Documents/Uni/23-24/AIS+ML/CombinedData/test_label_2.npy')\n",
    "\n",
    "#data and label for baby present, with suncreen, with scarf and absent all together for testing\n",
    "#np.save('/Users/kushalprakash/Documents/Uni/23-24/AIS+ML/CombinedData/' + 'test_label_all.npy', Label)\n",
    "#display=np.load('/Users/kushalprakash/Documents/Uni/23-24/AIS+ML/CombinedData/test_label_all.npy')\n",
    "print(display)"
   ]
  }
 ],
 "metadata": {
  "kernelspec": {
   "display_name": "Python 3",
   "language": "python",
   "name": "python3"
  },
  "language_info": {
   "codemirror_mode": {
    "name": "ipython",
    "version": 3
   },
   "file_extension": ".py",
   "mimetype": "text/x-python",
   "name": "python",
   "nbconvert_exporter": "python",
   "pygments_lexer": "ipython3",
   "version": "3.12.1"
  }
 },
 "nbformat": 4,
 "nbformat_minor": 2
}
