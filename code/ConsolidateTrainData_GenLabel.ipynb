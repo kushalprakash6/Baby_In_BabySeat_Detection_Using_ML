{
 "cells": [
  {
   "cell_type": "markdown",
   "metadata": {},
   "source": [
    "# Merge data for training"
   ]
  },
  {
   "cell_type": "code",
   "execution_count": 1,
   "metadata": {},
   "outputs": [
    {
     "name": "stdout",
     "output_type": "stream",
     "text": [
      "60000\n",
      "(20000, 3)\n",
      "20000\n",
      "107034\n",
      "(35678, 3)\n",
      "35678\n",
      "(55678, 3)\n",
      "[[ 0.00000000e+00  9.56996284e+05  3.14159265e+00]\n",
      " [ 8.00000000e-01  3.14769763e+05 -1.45148141e-02]\n",
      " [ 1.60000000e+00  1.84662142e+05 -3.89914626e-02]\n",
      " ...\n",
      " [-1.34536689e+00  1.39716808e+05  1.26878180e+00]\n",
      " [-8.96911262e-01  2.53736935e+05 -1.83203999e+00]\n",
      " [-4.48455631e-01  1.24573277e+06  7.68107678e-02]]\n"
     ]
    }
   ],
   "source": [
    "import numpy as np\n",
    "\n",
    "# Load the data from the .npy file using np.load\n",
    "data = np.load('/Users/kushalprakash/Documents/Uni/23-24/AIS+ML/WithBaby_train/withbaby_train.npy')\n",
    "\n",
    "# Print the size of the data (number of elements)\n",
    "print(data.size)\n",
    "\n",
    "# Or, print the shape of the data (dimensions) for multidimensional arrays\n",
    "print(data.shape)\n",
    "row,column = data.shape\n",
    "print(row)\n",
    "\n",
    "# Load the data from the .npy file using np.load\n",
    "data1 = np.load('/Users/kushalprakash/Documents/Uni/23-24/AIS+ML/WithoutBaby_train/withoutbaby_train.npy')\n",
    "\n",
    "# Print the size of the data (number of elements)\n",
    "print(data1.size)\n",
    "\n",
    "# Or, print the shape of the data (dimensions) for multidimensional arrays\n",
    "print(data1.shape)\n",
    "row1,column1 = data1.shape\n",
    "print(row1)\n",
    "\n",
    "# Concatenate the arrays along axis 0 (vertically)\n",
    "combined_data = np.concatenate((data, data1), axis=0)\n",
    "\n",
    "# Print the shape of the combined data\n",
    "print(combined_data.shape)\n",
    "\n",
    "print(combined_data)\n",
    "\n",
    "np.save('/Users/kushalprakash/Documents/Uni/23-24/AIS+ML/CombinedData/' + 'train.npy', combined_data)\n"
   ]
  },
  {
   "cell_type": "markdown",
   "metadata": {},
   "source": [
    "# Create train label"
   ]
  },
  {
   "cell_type": "code",
   "execution_count": 2,
   "metadata": {},
   "outputs": [
    {
     "name": "stdout",
     "output_type": "stream",
     "text": [
      "[1. 1. 1. ... 0. 0. 0.]\n"
     ]
    }
   ],
   "source": [
    "# create a horizontal array with row and columns \n",
    "Label_person = np.ones((row))\n",
    "Label_NoPerson = np.zeros((row1))\n",
    "Label = np.concatenate((Label_person, Label_NoPerson), axis=0)\n",
    "\n",
    "np.save('/Users/kushalprakash/Documents/Uni/23-24/AIS+ML/CombinedData/' + 'train_label.npy', Label)\n",
    "\n",
    "display=np.load('/Users/kushalprakash/Documents/Uni/23-24/AIS+ML/CombinedData/train_label.npy')\n",
    "print(display)"
   ]
  }
 ],
 "metadata": {
  "kernelspec": {
   "display_name": "Python 3",
   "language": "python",
   "name": "python3"
  },
  "language_info": {
   "codemirror_mode": {
    "name": "ipython",
    "version": 3
   },
   "file_extension": ".py",
   "mimetype": "text/x-python",
   "name": "python",
   "nbconvert_exporter": "python",
   "pygments_lexer": "ipython3",
   "version": "3.12.1"
  }
 },
 "nbformat": 4,
 "nbformat_minor": 2
}
